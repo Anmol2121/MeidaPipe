{
 "cells": [
  {
   "cell_type": "code",
   "execution_count": 82,
   "id": "0e12cc9a",
   "metadata": {},
   "outputs": [],
   "source": [
    "import cv2\n",
    "import mediapipe as mp"
   ]
  },
  {
   "cell_type": "code",
   "execution_count": 83,
   "id": "bb6487af",
   "metadata": {},
   "outputs": [],
   "source": [
    "mp_drawing = mp.solutions.drawing_utils\n",
    "mp_holistic = mp.solutions.holistic"
   ]
  },
  {
   "cell_type": "code",
   "execution_count": 123,
   "id": "749836a2",
   "metadata": {},
   "outputs": [],
   "source": [
    "cap = cv2.VideoCapture(0)\n",
    "with mp_holistic.Holistic(min_detection_confidence=0.5,min_tracking_confidence=0.5) as holistic:\n",
    "    while cap.isOpened():\n",
    "        rec,frame = cap.read()\n",
    "        image = cv2.cvtColor(frame,cv2.COLOR_BGR2RGB)\n",
    "        result = holistic.process(image)\n",
    "        \n",
    "        image = cv2.cvtColor(image,cv2.COLOR_RGB2BGR)\n",
    "        mp_drawing.draw_landmarks(image,result.face_landmarks,mp_holistic.FACEMESH_CONTOURS,\n",
    "                    mp_drawing.DrawingSpec(color=(257, 374, 386, 362),thickness=1,circle_radius=1),\n",
    "                    mp_drawing.DrawingSpec(color=(159,33,145,133),thickness=1,circle_radius=1))\n",
    "        \n",
    "        mp_drawing.draw_landmarks(image,result.right_hand_landmarks,mp_holistic.HAND_CONNECTIONS,\n",
    "                                 mp_drawing.DrawingSpec(color=(100,100,25),thickness=2,circle_radius=3),\n",
    "                                 mp_drawing.DrawingSpec(color=(100,100,25),thickness=2,circle_radius=1))\n",
    "        \n",
    "        mp_drawing.draw_landmarks(image,result.left_hand_landmarks,mp_holistic.HAND_CONNECTIONS,\n",
    "                            mp_drawing.DrawingSpec(color=(100,100,25),thickness=2,circle_radius=3),\n",
    "                                mp_drawing.DrawingSpec(color=(100,100,25),thickness=2,circle_radius=1))\n",
    "        \n",
    "        cv2.imshow('Video Cap',image)\n",
    "        if cv2.waitKey(10) & 0xFF == ord('q'):\n",
    "            break\n",
    "            \n",
    "cap.release()\n",
    "cv2.destroyAllWindows()"
   ]
  },
  {
   "cell_type": "code",
   "execution_count": null,
   "id": "fc744300",
   "metadata": {},
   "outputs": [],
   "source": []
  },
  {
   "cell_type": "code",
   "execution_count": null,
   "id": "ba65bbaf",
   "metadata": {},
   "outputs": [],
   "source": []
  }
 ],
 "metadata": {
  "kernelspec": {
   "display_name": "Python 3 (ipykernel)",
   "language": "python",
   "name": "python3"
  },
  "language_info": {
   "codemirror_mode": {
    "name": "ipython",
    "version": 3
   },
   "file_extension": ".py",
   "mimetype": "text/x-python",
   "name": "python",
   "nbconvert_exporter": "python",
   "pygments_lexer": "ipython3",
   "version": "3.9.13"
  }
 },
 "nbformat": 4,
 "nbformat_minor": 5
}
